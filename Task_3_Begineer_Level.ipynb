{
  "cells": [
    {
      "cell_type": "markdown",
      "metadata": {
        "id": "av40ie3okn60"
      },
      "source": [
        "**LETSGROWMORE Data Science**\n",
        "\n",
        "**TASK - 03 Beginner Level Task**\n",
        "\n",
        "**Image to Pencil Sketch with Python**\n",
        "\n"
      ]
    },
    {
      "cell_type": "markdown",
      "source": [
        "*Original Image*"
      ],
      "metadata": {
        "id": "PcIjpXSEDeGR"
      }
    },
    {
      "cell_type": "code",
      "execution_count": null,
      "metadata": {
        "id": "VHKSDuVxknUO"
      },
      "outputs": [],
      "source": [
        "import cv2\n",
        "import numpy as np\n",
        "from google.colab.patches import cv2_imshow\n",
        "\n",
        "image = cv2.imread(\"/content/ronaldo.jpg\")\n",
        "img = cv2.imread('/content/Virat-Kohli.jpg')\n",
        "cv2_imshow(img)\n",
        "cv2_imshow(image)"
      ]
    },
    {
      "cell_type": "markdown",
      "source": [
        " **Gray Image**"
      ],
      "metadata": {
        "id": "14yrgXpRDmWT"
      }
    },
    {
      "cell_type": "code",
      "execution_count": null,
      "metadata": {
        "id": "bWTNNhloWIl4"
      },
      "outputs": [],
      "source": [
        "img_gray1 = cv2.cvtColor(image, cv2.COLOR_BGR2GRAY)\n",
        "img_gray2 = cv2.cvtColor(img, cv2.COLOR_BGR2GRAY)\n",
        "cv2_imshow(img_gray1)\n",
        "cv2_imshow(img_gray2)"
      ]
    },
    {
      "cell_type": "markdown",
      "source": [
        "Inverted Gray Image"
      ],
      "metadata": {
        "id": "neFKPybsDxrx"
      }
    },
    {
      "cell_type": "code",
      "execution_count": null,
      "metadata": {
        "id": "MVlW635EYwgA"
      },
      "outputs": [],
      "source": [
        "inverted1=255-img_gray1\n",
        "inverted2=255-img_gray2\n",
        "cv2_imshow(inverted1)\n",
        "cv2_imshow(inverted2)"
      ]
    },
    {
      "cell_type": "markdown",
      "source": [
        "Blurred Inverted Image"
      ],
      "metadata": {
        "id": "Vrl_D344EBHA"
      }
    },
    {
      "cell_type": "code",
      "execution_count": null,
      "metadata": {
        "id": "DMVgi0CAZVy7"
      },
      "outputs": [],
      "source": [
        "blurred1 = cv2.GaussianBlur(inverted1, (21, 21), 0)\n",
        "blurred2 = cv2.GaussianBlur(inverted2, (21, 21), 0)\n",
        "cv2_imshow(blurred1)\n",
        "cv2_imshow(blurred2)"
      ]
    },
    {
      "cell_type": "markdown",
      "source": [
        "Pencil Sketch"
      ],
      "metadata": {
        "id": "7aMsFcIREPjM"
      }
    },
    {
      "cell_type": "code",
      "execution_count": null,
      "metadata": {
        "id": "vvMHppnLZvVU"
      },
      "outputs": [],
      "source": [
        "iblurred1 = 255 - blurred1\n",
        "pencil_sketch1 = cv2.divide(img_gray1, iblurred1, scale=256.0)\n",
        "iblurred2 = 255 - blurred2\n",
        "pencil_sketch2 = cv2.divide(img_gray2, iblurred2, scale=256.0)\n",
        "cv2_imshow(pencil_sketch2)\n",
        "cv2_imshow(pencil_sketch1)"
      ]
    },
    {
      "cell_type": "code",
      "execution_count": null,
      "metadata": {
        "id": "-mgYycwrgY9q"
      },
      "outputs": [],
      "source": [
        "k=5\n",
        "pencil_sketch2= 255 * (pencil_sketch2/255)**k"
      ]
    },
    {
      "cell_type": "markdown",
      "source": [
        "**Comparisions Between Original and Pencil Sketch**"
      ],
      "metadata": {
        "id": "pZGva9ayC_3y"
      }
    },
    {
      "cell_type": "code",
      "execution_count": null,
      "metadata": {
        "id": "qnf4RRMqkN5c"
      },
      "outputs": [],
      "source": [
        "cv2_imshow(image)\n",
        "cv2_imshow(pencil_sketch1)"
      ]
    },
    {
      "cell_type": "code",
      "execution_count": null,
      "metadata": {
        "id": "x1yoadeEnwBq"
      },
      "outputs": [],
      "source": [
        "cv2_imshow(img)\n",
        "cv2_imshow(pencil_sketch2)"
      ]
    },
    {
      "cell_type": "code",
      "source": [],
      "metadata": {
        "id": "hIPLMAAjEjg_"
      },
      "execution_count": null,
      "outputs": []
    }
  ],
  "metadata": {
    "colab": {
      "provenance": []
    },
    "kernelspec": {
      "display_name": "Python 3",
      "name": "python3"
    },
    "language_info": {
      "name": "python"
    }
  },
  "nbformat": 4,
  "nbformat_minor": 0
}